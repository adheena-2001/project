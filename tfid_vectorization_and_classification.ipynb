{
  "nbformat": 4,
  "nbformat_minor": 0,
  "metadata": {
    "colab": {
      "provenance": []
    },
    "kernelspec": {
      "name": "python3",
      "display_name": "Python 3"
    },
    "language_info": {
      "name": "python"
    }
  },
  "cells": [
    {
      "cell_type": "code",
      "execution_count": null,
      "metadata": {
        "id": "PshaZ0tTJjzS"
      },
      "outputs": [],
      "source": [
        "import numpy as np\n",
        "from sklearn.pipeline import Pipeline\n",
        "from sklearn.naive_bayes import MultinomialNB\n",
        "from sklearn.feature_extraction.text import TfidfVectorizer"
      ]
    },
    {
      "cell_type": "code",
      "source": [
        "X_train=([\"coffee is my favorite drink\",\n",
        "                    \"i like to have tea in the morning\",\n",
        "                    \"i like to eat italian food for dinner\",\n",
        "                    \"i had pasta at this restaurant and it was amazing\",\n",
        "                    \"pizza at this restaurant is the best in nyc\",\n",
        "                    \"people like italian food these days\",\n",
        "                    \"i like to have bagels for breakfast\",\n",
        "                    \"olive oil is commonly used in italian cooking\",\n",
        "                    \"sometimes simple bread and butter works for breakfast\",\n",
        "                    \"i liked spaghetti pasta at this italian restaurant\"])\n"
      ],
      "metadata": {
        "id": "I1zCDki2q8ge"
      },
      "execution_count": null,
      "outputs": []
    },
    {
      "cell_type": "code",
      "source": [
        "y_train=['breakfast','breakfast','italian','italian','italian','italian','breakfast','italian','breakfast','italian']"
      ],
      "metadata": {
        "id": "htJzgDzbsJeR"
      },
      "execution_count": null,
      "outputs": []
    },
    {
      "cell_type": "code",
      "source": [
        "X_test=np.array(['this is an amazing italian place. i can go there every day',\n",
        "                   'i like this place. i get great coffee and tea in the morning',\n",
        "                   'bagels are great here',\n",
        "                   'i like hiking',\n",
        "                   'everyone should understand maths'])"
      ],
      "metadata": {
        "id": "u6zocY-GsRlz"
      },
      "execution_count": null,
      "outputs": []
    },
    {
      "cell_type": "code",
      "source": [
        "classifier=Pipeline([('vec',TfidfVectorizer()),\n",
        "                     ('clf',MultinomialNB())])"
      ],
      "metadata": {
        "id": "IRKV5RYvsyIV"
      },
      "execution_count": null,
      "outputs": []
    },
    {
      "cell_type": "code",
      "source": [
        "classifier.fit(X_train,y_train)"
      ],
      "metadata": {
        "colab": {
          "base_uri": "https://localhost:8080/"
        },
        "id": "u7FVQfajs3NZ",
        "outputId": "4507dc57-0228-485f-c0ed-e9e03dee3a54"
      },
      "execution_count": null,
      "outputs": [
        {
          "output_type": "execute_result",
          "data": {
            "text/plain": [
              "Pipeline(steps=[('vec', TfidfVectorizer()), ('clf', MultinomialNB())])"
            ]
          },
          "metadata": {},
          "execution_count": 14
        }
      ]
    },
    {
      "cell_type": "code",
      "source": [
        "y_pred=classifier.predict(X_test)\n",
        "y_pred"
      ],
      "metadata": {
        "colab": {
          "base_uri": "https://localhost:8080/"
        },
        "id": "AXPOlQZ9s_QI",
        "outputId": "79be5d94-ab44-4d3f-df07-7f1ff492ab06"
      },
      "execution_count": null,
      "outputs": [
        {
          "output_type": "execute_result",
          "data": {
            "text/plain": [
              "array(['italian', 'breakfast', 'breakfast', 'italian', 'italian'],\n",
              "      dtype='<U9')"
            ]
          },
          "metadata": {},
          "execution_count": 15
        }
      ]
    }
  ]
}